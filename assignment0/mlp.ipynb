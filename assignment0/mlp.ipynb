{
 "cells": [
  {
   "cell_type": "markdown",
   "id": "5cc4770f-7aac-4d16-9247-35b01ed82d27",
   "metadata": {},
   "source": [
    "import libraries"
   ]
  },
  {
   "cell_type": "code",
   "execution_count": 2,
   "id": "a6b0ef31-0dc4-4280-84e0-019652c7a2b2",
   "metadata": {},
   "outputs": [],
   "source": [
    "import torch\n",
    "import torch.nn as nn\n",
    "import torch.nn.functional as F\n",
    "import torch.optim as optim\n",
    "import torch.utils.data as du\n",
    "from torchvision import datasets, transforms\n",
    "import matplotlib.pyplot as plt"
   ]
  },
  {
   "cell_type": "markdown",
   "id": "93e1cbba-7bb3-4a80-bc9c-5ee4c94b45e9",
   "metadata": {},
   "source": [
    "read MNIST data"
   ]
  },
  {
   "cell_type": "code",
   "execution_count": 3,
   "id": "f7cca164-b69e-420e-81f5-9f2121fd8fcd",
   "metadata": {},
   "outputs": [
    {
     "name": "stdout",
     "output_type": "stream",
     "text": [
      "Downloading http://yann.lecun.com/exdb/mnist/train-images-idx3-ubyte.gz\n",
      "Downloading http://yann.lecun.com/exdb/mnist/train-images-idx3-ubyte.gz to ./MNIST/raw/train-images-idx3-ubyte.gz\n"
     ]
    },
    {
     "name": "stderr",
     "output_type": "stream",
     "text": [
      "9913344it [00:00, 62198880.46it/s]                             \n"
     ]
    },
    {
     "name": "stdout",
     "output_type": "stream",
     "text": [
      "Extracting ./MNIST/raw/train-images-idx3-ubyte.gz to ./MNIST/raw\n",
      "\n",
      "Downloading http://yann.lecun.com/exdb/mnist/train-labels-idx1-ubyte.gz\n",
      "Downloading http://yann.lecun.com/exdb/mnist/train-labels-idx1-ubyte.gz to ./MNIST/raw/train-labels-idx1-ubyte.gz\n"
     ]
    },
    {
     "name": "stderr",
     "output_type": "stream",
     "text": [
      "29696it [00:00, 106821656.59it/s]        \n"
     ]
    },
    {
     "name": "stdout",
     "output_type": "stream",
     "text": [
      "Extracting ./MNIST/raw/train-labels-idx1-ubyte.gz to ./MNIST/raw\n",
      "\n",
      "Downloading http://yann.lecun.com/exdb/mnist/t10k-images-idx3-ubyte.gz\n",
      "Downloading http://yann.lecun.com/exdb/mnist/t10k-images-idx3-ubyte.gz to ./MNIST/raw/t10k-images-idx3-ubyte.gz\n"
     ]
    },
    {
     "name": "stderr",
     "output_type": "stream",
     "text": [
      "1649664it [00:00, 38087856.23it/s]         "
     ]
    },
    {
     "name": "stdout",
     "output_type": "stream",
     "text": [
      "Extracting ./MNIST/raw/t10k-images-idx3-ubyte.gz to ./MNIST/raw\n"
     ]
    },
    {
     "name": "stderr",
     "output_type": "stream",
     "text": [
      "\n"
     ]
    },
    {
     "name": "stdout",
     "output_type": "stream",
     "text": [
      "\n",
      "Downloading http://yann.lecun.com/exdb/mnist/t10k-labels-idx1-ubyte.gz\n",
      "Downloading http://yann.lecun.com/exdb/mnist/t10k-labels-idx1-ubyte.gz to ./MNIST/raw/t10k-labels-idx1-ubyte.gz\n"
     ]
    },
    {
     "name": "stderr",
     "output_type": "stream",
     "text": [
      "5120it [00:00, 17674762.53it/s]         \n"
     ]
    },
    {
     "name": "stdout",
     "output_type": "stream",
     "text": [
      "Extracting ./MNIST/raw/t10k-labels-idx1-ubyte.gz to ./MNIST/raw\n",
      "\n",
      "train images torch.Size([60000, 28, 28])\n",
      "train labels torch.Size([60000])\n",
      "test images torch.Size([10000, 28, 28])\n",
      "test labels torch.Size([10000])\n"
     ]
    }
   ],
   "source": [
    "train_data = datasets.MNIST('.', train=True, download=True,\n",
    "                            transform=transforms.Compose([\n",
    "                                transforms.ToTensor()\n",
    "                            ]))\n",
    "test_data = datasets.MNIST('.', train=False,\n",
    "                           transform=transforms.Compose([\n",
    "                               transforms.ToTensor()\n",
    "                           ]))\n",
    "print(\"train images\", train_data.data.size())\n",
    "print(\"train labels\", train_data.targets.size())\n",
    "print(\"test images\", test_data.data.size())\n",
    "print(\"test labels\", test_data.targets.size())"
   ]
  },
  {
   "cell_type": "code",
   "execution_count": 4,
   "id": "14199014-e2bf-4093-9f3d-060b040ee862",
   "metadata": {},
   "outputs": [
    {
     "data": {
      "image/png": "[encoded data removed]",
      "text/plain": [
       "<Figure size 432x288 with 1 Axes>"
      ]
     },
     "metadata": {
      "needs_background": "light"
     },
     "output_type": "display_data"
    }
   ],
   "source": [
    "plt.imshow(train_data.data[0].numpy(), cmap='gray')\n",
    "plt.title('%i' % train_data.targets[0])\n",
    "plt.show()"
   ]
  },
  {
   "cell_type": "code",
   "execution_count": 5,
   "id": "64ba18d8-8016-47d1-8b37-d0ea24245412",
   "metadata": {},
   "outputs": [
    {
     "data": {
      "image/png": "[encoded data removed]",
      "text/plain": [
       "<Figure size 432x288 with 1 Axes>"
      ]
     },
     "metadata": {
      "needs_background": "light"
     },
     "output_type": "display_data"
    }
   ],
   "source": [
    "plt.imshow(test_data.data[0].numpy(), cmap='gray')\n",
    "plt.title('%i' % test_data.targets[0])\n",
    "plt.show()"
   ]
  },
  {
   "cell_type": "markdown",
   "id": "93c3036a-d4ac-42f5-bb56-3f8f2a3e6727",
   "metadata": {},
   "source": [
    "define MLP model"
   ]
  },
  {
   "cell_type": "code",
   "execution_count": 6,
   "id": "20ddd8c2-cf48-45c4-8656-9609c04a519e",
   "metadata": {},
   "outputs": [],
   "source": [
    "class MLP(nn.Module):\n",
    "    def __init__(self, in_dim, hidden_dim, out_dim):\n",
    "        '''in_dim: input layer dim\n",
    "           hidden_dim: hidden layer dim\n",
    "           out_dim: output layer dim'''\n",
    "        \n",
    "        super(MLP, self).__init__()\n",
    "        \n",
    "        # images are 28x28 so flatten them into 784d vec\n",
    "        self.flatten = nn.Flatten()\n",
    "        \n",
    "        #two fully connected layers\n",
    "        self.fc1 = nn.Linear(in_dim, hidden_dim)\n",
    "        self.fc2 = nn.Linear(hidden_dim, out_dim)\n",
    "\n",
    "    def forward(self, x):\n",
    "        # since x is 28x28, flatten it first\n",
    "        x = self.flatten(x)\n",
    "        \n",
    "        # compute output of fc1, and apply relu activation\n",
    "        x = F.relu(self.fc1(x))\n",
    "        \n",
    "        # compute output layer\n",
    "        # no activation: cross entropy will compute softmax\n",
    "        x = self.fc2(x)\n",
    "        return x"
   ]
  },
  {
   "cell_type": "markdown",
   "id": "19109927-87a6-45fb-85c5-d5bd16e0e847",
   "metadata": {},
   "source": [
    "Set up training"
   ]
  },
  {
   "cell_type": "code",
   "execution_count": 7,
   "id": "3fbd31a8-6919-4e9b-acc9-82575f284b6b",
   "metadata": {},
   "outputs": [
    {
     "name": "stdout",
     "output_type": "stream",
     "text": [
      "using device: cuda:0\n"
     ]
    },
    {
     "data": {
      "text/plain": [
       "MLP(\n",
       "  (flatten): Flatten(start_dim=1, end_dim=-1)\n",
       "  (fc1): Linear(in_features=784, out_features=384, bias=True)\n",
       "  (fc2): Linear(in_features=384, out_features=10, bias=True)\n",
       ")"
      ]
     },
     "execution_count": 7,
     "metadata": {},
     "output_type": "execute_result"
    }
   ],
   "source": [
    "device = f'cuda:0' if torch.cuda.is_available() else 'cpu'\n",
    "print(f\"using device: {device}\")\n",
    "batch_size = 1000\n",
    "learning_rate = 0.01\n",
    "epochs = 5\n",
    "\n",
    "# set model and optimizer\n",
    "# images are 28x28 as inputs\n",
    "# use 384d hidden layer\n",
    "# output is 10d since there are 10 classes\n",
    "model = MLP(28*28, 384, 10)\n",
    "optimizer = optim.Adam(model.parameters(), lr=learning_rate)\n",
    "\n",
    "# load training data in batches\n",
    "train_loader = du.DataLoader(dataset=train_data,\n",
    "                             batch_size=batch_size,\n",
    "                             shuffle=True)\n",
    "# send model over to device\n",
    "model = model.to(device)\n",
    "model.train()"
   ]
  },
  {
   "cell_type": "markdown",
   "id": "79fb1cbe-2d79-4554-9a69-edad36523645",
   "metadata": {},
   "source": [
    "Training loop over batches"
   ]
  },
  {
   "cell_type": "code",
   "execution_count": 10,
   "id": "e1c2933d-a886-4639-8a1c-c331b99af143",
   "metadata": {},
   "outputs": [
    {
     "name": "stdout",
     "output_type": "stream",
     "text": [
      "Epoch: 1, Loss: 0.000026\n",
      "Epoch: 2, Loss: 0.000024\n",
      "Epoch: 3, Loss: 0.000017\n",
      "Epoch: 4, Loss: 0.000010\n",
      "Epoch: 5, Loss: 0.000009\n"
     ]
    }
   ],
   "source": [
    "for epoch in range(1, epochs + 1):    \n",
    "    sum_loss = 0.\n",
    "    for batch_idx, (data, target) in enumerate(train_loader):\n",
    "        # send batch over to device\n",
    "        data, target = data.to(device), target.to(device)\n",
    "        \n",
    "        # zero out prev gradients\n",
    "        optimizer.zero_grad()\n",
    "        \n",
    "        # run the forward pass\n",
    "        output = model(data)\n",
    "        \n",
    "        # compute loss/error\n",
    "        loss = F.cross_entropy(output, target)\n",
    "        \n",
    "        # sum up batch losses\n",
    "        sum_loss += loss.item()\n",
    "        \n",
    "        # compute gradients and take a step\n",
    "        loss.backward()\n",
    "        optimizer.step()\n",
    "        \n",
    "    # average loss per example    \n",
    "    sum_loss /= len(train_loader.dataset)\n",
    "    print(f'Epoch: {epoch}, Loss: {sum_loss:.6f}')"
   ]
  },
  {
   "cell_type": "markdown",
   "id": "ec70126a-7645-4d04-834d-921f51274a15",
   "metadata": {},
   "source": [
    "Now do testing"
   ]
  },
  {
   "cell_type": "code",
   "execution_count": 11,
   "id": "427a73e2-12a3-4e82-9951-7fd9abbbcf9a",
   "metadata": {},
   "outputs": [
    {
     "name": "stdout",
     "output_type": "stream",
     "text": [
      "Test loss: 0.000078, accuracy: 0.9795 correct: 9795\n"
     ]
    }
   ],
   "source": [
    "# load test images in batches\n",
    "test_loader = du.DataLoader(dataset=test_data,\n",
    "                            batch_size=batch_size,\n",
    "                            shuffle=True)\n",
    "\n",
    "# set model in eval mode, since we are no longer training\n",
    "model.eval()\n",
    "test_loss = 0\n",
    "correct = 0\n",
    "\n",
    "# turn of gradient computation, will speed up testing\n",
    "with torch.no_grad():\n",
    "    for batch_idx, (data, target) in enumerate(test_loader):\n",
    "        # send batches to device\n",
    "        data, target = data.to(device), target.to(device)\n",
    "        \n",
    "        # compute forward pass and loss\n",
    "        output = model(data)\n",
    "        loss = F.cross_entropy(output, target)\n",
    "        \n",
    "        # sum up batch loss\n",
    "        test_loss += loss.item()\n",
    "\n",
    "        # get the index/class of the max log-probability\n",
    "        output = F.log_softmax(output, dim=1)\n",
    "        pred = output.max(dim=1)[1]\n",
    "\n",
    "        # add up number of correct predictions\n",
    "        correct += torch.sum(pred == target)\n",
    "  \n",
    "    # test loss per example\n",
    "    test_loss /= len(test_loader.dataset)\n",
    "    \n",
    "    # final test accuracy\n",
    "    test_acc = correct / len(test_loader.dataset)\n",
    "    print(f'Test loss: {test_loss:.6f}, accuracy: {test_acc:.4f}',\n",
    "          f'correct: {correct}')"
   ]
  }
 ],
 "metadata": {
  "interpreter": {
   "hash": "71b0def66c9fdfac05edfafc9587f9dcfd34e64b1b79e62a2a9108c6900c0515"
  },
  "kernelspec": {
   "display_name": "default:Python",
   "language": "python",
   "name": "python3"
  },
  "language_info": {
   "codemirror_mode": {
    "name": "ipython",
    "version": 3
   },
   "file_extension": ".py",
   "mimetype": "text/x-python",
   "name": "python",
   "nbconvert_exporter": "python",
   "pygments_lexer": "ipython3",
   "version": "3.9.7"
  }
 },
 "nbformat": 4,
 "nbformat_minor": 5
}
