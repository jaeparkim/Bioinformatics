{
 "cells": [
  {
   "cell_type": "markdown",
   "id": "5cc4770f-7aac-4d16-9247-35b01ed82d27",
   "metadata": {},
   "source": [
    "import libraries"
   ]
  },
  {
   "cell_type": "code",
   "execution_count": 1,
   "id": "a6b0ef31-0dc4-4280-84e0-019652c7a2b2",
   "metadata": {},
   "outputs": [],
   "source": [
    "import torch\n",
    "import torch.nn as nn\n",
    "import torch.nn.functional as functional\n",
    "import torch.optim as optim\n",
    "import torch.utils.data as du\n",
    "from torch.utils.data import Dataset\n",
    "from joblib import load"
   ]
  },
  {
   "cell_type": "markdown",
   "id": "3ac281ba-ef3c-4af1-8779-ad801bba6506",
   "metadata": {},
   "source": [
    "read data"
   ]
  },
  {
   "cell_type": "code",
   "execution_count": 2,
   "id": "02af9fa2-096b-45e3-9913-90df8baa06c2",
   "metadata": {},
   "outputs": [],
   "source": [
    "class JUND_Dataset(Dataset):\n",
    "    def __init__(self, data_dir):\n",
    "        '''load X, y, w, a from data_dir'''        \n",
    "        super(JUND_Dataset, self).__init__()\n",
    "\n",
    "        # load X, y, w, a from given data_dir\n",
    "        # convert them into torch tensors\n",
    "        x = load(data_dir + 'shard-0-X.joblib')\n",
    "        y = load(data_dir +'shard-0-y.joblib')\n",
    "        w = load(data_dir + 'shard-0-w.joblib')\n",
    "        a = load(data_dir + 'shard-0-a.joblib')\n",
    "\n",
    "        self.x = torch.tensor(x).float()  \n",
    "        self.y = torch.tensor(y).float()\n",
    "        self.w = torch.tensor(w).float()\n",
    "        self.a = torch.tensor(a).float()\n",
    "        \n",
    "    def __len__(self):\n",
    "        '''return len of dataset'''\n",
    "        \n",
    "        return len(self.y)\n",
    "    \n",
    "    def __getitem__(self, idx):\n",
    "        '''return X, y, w, and a values at index idx'''\n",
    "        _x = self.x[idx]\n",
    "        _y = self.y[idx]\n",
    "        _w = self.w[idx]\n",
    "        _a = self.a[idx]\n",
    "        \n",
    "        return _x, _y, _w, _a"
   ]
  },
  {
   "cell_type": "markdown",
   "id": "93c3036a-d4ac-42f5-bb56-3f8f2a3e6727",
   "metadata": {},
   "source": [
    "define a Multi Layer Perceptron model"
   ]
  },
  {
   "cell_type": "code",
   "execution_count": 3,
   "id": "20ddd8c2-cf48-45c4-8656-9609c04a519e",
   "metadata": {},
   "outputs": [],
   "source": [
    "class LSTM(nn.Module):\n",
    "    def __init__(self, input_dim, LSTM_hidden_dim, LSTM_layers, mlp_hidden_dim, out_dim):\n",
    "        '''in_dim: input layer dim\n",
    "           hidden_dim: hidden layer dim\n",
    "           out_dim: output layer dim'''\n",
    "        \n",
    "        super().__init__()\n",
    "        # self.flatten = nn.Flatten()\n",
    "        self.LSTM_layers = LSTM_layers\n",
    "        self.hidden_units = LSTM_hidden_dim\n",
    "        \n",
    "        self.fc1 = nn.LSTM(\n",
    "            input_size=input_dim,\n",
    "            hidden_size=LSTM_hidden_dim,\n",
    "            num_layers=LSTM_layers,\n",
    "            batch_first=True\n",
    "        )\n",
    "        self.fc2 = nn.Linear(LSTM_hidden_dim, mlp_hidden_dim)\n",
    "        self.fc3 = nn.Linear(mlp_hidden_dim + 1, out_dim)\n",
    "\n",
    "    def forward(self, x, a):\n",
    "        batch_size = x.shape[0]\n",
    "        h0 = torch.zeros(self.LSTM_layers, batch_size, self.hidden_units).requires_grad_()\n",
    "        c0 = torch.zeros(self.LSTM_layers, batch_size, self.hidden_units).requires_grad_()\n",
    "        \n",
    "        _, (hn, _) = self.fc1(x, (h0.to(device), c0.to(device)))\n",
    "        x = self.fc2(hn[0])\n",
    "        x = functional.relu(x)\n",
    "        x = torch.cat((x, a), dim=1)\n",
    "        x = self.fc3(x)\n",
    "        \n",
    "        return x"
   ]
  },
  {
   "cell_type": "markdown",
   "id": "19109927-87a6-45fb-85c5-d5bd16e0e847",
   "metadata": {},
   "source": [
    "Set up training & hyperparameters"
   ]
  },
  {
   "cell_type": "code",
   "execution_count": 4,
   "id": "ce63ba0e-0f74-4441-8615-5458e0fbb9f7",
   "metadata": {},
   "outputs": [
    {
     "name": "stdout",
     "output_type": "stream",
     "text": [
      "using device: cuda:0\n"
     ]
    }
   ],
   "source": [
    "device = f'cuda:0' if torch.cuda.is_available() else 'cpu'\n",
    "print(f\"using device: {device}\")\n",
    "\n",
    "'''\n",
    "batch_size_list = [500, 1000, 1500]\n",
    "learning_rate_list = [0.1, 0.5, 1]\n",
    "epochs_list = [10, 20, 30, 40, 50]\n",
    "'''\n",
    "\n",
    "batch_size_list = [2000]\n",
    "learning_rate_list = [0.04, 0.05]\n",
    "epochs_list = [30]\n"
   ]
  },
  {
   "cell_type": "markdown",
   "id": "79fb1cbe-2d79-4554-9a69-edad36523645",
   "metadata": {},
   "source": [
    "Training and validating using different hyperparameter configurations"
   ]
  },
  {
   "cell_type": "code",
   "execution_count": 5,
   "id": "e1c2933d-a886-4639-8a1c-c331b99af143",
   "metadata": {},
   "outputs": [
    {
     "name": "stdout",
     "output_type": "stream",
     "text": [
      "Test loss: 0.00030 / weighted accuracy: 0.73444 / correct: 28461 out of 34528 test points\n",
      "Test loss: 0.00029 / weighted accuracy: 0.73052 / correct: 29129 out of 34528 test points\n"
     ]
    }
   ],
   "source": [
    "# set model and optimizer\n",
    "# 104*4 as inputs\n",
    "# use 128 hidden layer + 1 accessibility value node\n",
    "# output is binary (0, 1)\n",
    "\n",
    "hyperparams = {}\n",
    "\n",
    "for batch in batch_size_list:\n",
    "    for rate in learning_rate_list:\n",
    "        for epoch in epochs_list:\n",
    "            batch_size = batch\n",
    "            learning_rate = rate\n",
    "            epochs = epoch\n",
    "\n",
    "            model = LSTM(4, 128, 3, 64, 1)\n",
    "            optimizer = optim.Adam(model.parameters(), lr=learning_rate)\n",
    "\n",
    "            # load training data in batches\n",
    "            train_loader = du.DataLoader(dataset=JUND_Dataset('../JUND_data/train_dataset/'),\n",
    "                                         batch_size=batch_size,\n",
    "                                         shuffle=True)\n",
    "            # send model over to device\n",
    "            model = model.to(device)\n",
    "\n",
    "            '''\n",
    "            training\n",
    "            '''\n",
    "            sum_loss = 0\n",
    "            model.train()\n",
    "            for epoch in range(1, epochs + 1):\n",
    "                sum_loss = 0.\n",
    "\n",
    "                for batch_idx, data in enumerate(train_loader):\n",
    "                    # send batch over to device\n",
    "\n",
    "                    x, y, w, a = data\n",
    "                    # print(x.shape)\n",
    "                    x, y, w, a = x.to(device), y.to(\n",
    "                        device), w.to(device), a.to(device)\n",
    "\n",
    "                    # zero out prev gradients\n",
    "                    optimizer.zero_grad()\n",
    "\n",
    "                    # run the forward pass\n",
    "                    output = model(x, a)\n",
    "\n",
    "                    # compute loss/error\n",
    "                    loss = functional.binary_cross_entropy_with_logits(output, y, weight=w)\n",
    "\n",
    "                    # sum up batch losses\n",
    "                    sum_loss += loss.item()\n",
    "\n",
    "                    # compute gradients and take a step\n",
    "                    loss.backward()\n",
    "                    optimizer.step()\n",
    "\n",
    "                # average loss per example\n",
    "                sum_loss /= len(train_loader.dataset)\n",
    "                # print(sum_loss)  \n",
    "\n",
    "            '''\n",
    "            te$ting\n",
    "            '''\n",
    "            # load test images in batches\n",
    "            test_loader = du.DataLoader(dataset=JUND_Dataset('../JUND_data/test_dataset/'),\n",
    "                                        batch_size=batch_size,\n",
    "                                        shuffle=True)\n",
    "\n",
    "            # set model in eval mode, since we are no longer training\n",
    "            model.eval()\n",
    "            test_loss = 0\n",
    "            correct = 0\n",
    "            weighted_correct = 0\n",
    "\n",
    "            # turn off gradient computation, will speed up testing\n",
    "            with torch.no_grad():\n",
    "                for batch_idx, data in enumerate(test_loader):\n",
    "                    # send batches to device\n",
    "                    x, y, w, a = data\n",
    "                    x, y, w, a = x.to(device), y.to(device), w.to(device), a.to(device)\n",
    "\n",
    "                    # compute forward pass\n",
    "                    output = model(x, a)\n",
    "\n",
    "                    # compute loss/error\n",
    "                    loss = functional.binary_cross_entropy_with_logits(output, y, weight=w)\n",
    "\n",
    "                    # sum up batch loss\n",
    "                    test_loss += loss.item()\n",
    "\n",
    "                    # class-wise classification using sigmoid\n",
    "                    m = nn.Sigmoid()\n",
    "                    output = m(output)\n",
    "                    output = torch.where(output < 0.5, output, torch.tensor(1.).to(device))\n",
    "                    output = torch.where(output == 1.0, output,\n",
    "                                        torch.tensor(0.).to(device))\n",
    "\n",
    "                    # add up number of correct predictions\n",
    "                    correct += torch.sum(output == y)\n",
    "\n",
    "                    diff = (output == y)\n",
    "\n",
    "                    # weighted accuracy of the predictions\n",
    "                    weighted_correct += torch.sum(torch.mul(w, diff))\n",
    "\n",
    "                # test loss per example\n",
    "                test_loss /= len(test_loader.dataset)\n",
    "\n",
    "                # final test accuracy\n",
    "                test_acc = weighted_correct / len(test_loader.dataset)\n",
    "                print(f'Test loss: {test_loss:.5f} / weighted accuracy: {test_acc:.5f} /',\n",
    "                    f'correct: {correct} out of {len(test_loader.dataset)} test points')\n"
   ]
  },
  {
   "cell_type": "markdown",
   "id": "ec70126a-7645-4d04-834d-921f51274a15",
   "metadata": {},
   "source": [
    "Testing"
   ]
  },
  {
   "cell_type": "code",
   "execution_count": 6,
   "id": "427a73e2-12a3-4e82-9951-7fd9abbbcf9a",
   "metadata": {},
   "outputs": [
    {
     "name": "stdout",
     "output_type": "stream",
     "text": [
      "Test loss: 0.00029 / weighted accuracy: 0.73052 / correct: 29129 out of 34528 test points\n"
     ]
    }
   ],
   "source": [
    "\n",
    "'''\n",
    "te$ting\n",
    "'''\n",
    "# load test images in batches\n",
    "test_loader = du.DataLoader(dataset=JUND_Dataset('../JUND_data/test_dataset/'),\n",
    "                            batch_size=batch_size,\n",
    "                            shuffle=True)\n",
    "\n",
    "# set model in eval mode, since we are no longer training\n",
    "model.eval()\n",
    "test_loss = 0\n",
    "correct = 0\n",
    "weighted_correct = 0\n",
    "\n",
    "# turn off gradient computation, will speed up testing\n",
    "with torch.no_grad():\n",
    "    for batch_idx, data in enumerate(test_loader):\n",
    "        # send batches to device\n",
    "        x, y, w, a = data\n",
    "        x, y, w, a = x.to(device), y.to(device), w.to(device), a.to(device)\n",
    "        \n",
    "        # compute forward pass\n",
    "        output = model(x, a)\n",
    "\n",
    "        # compute loss/error\n",
    "        loss = functional.binary_cross_entropy_with_logits(output, y, weight=w)\n",
    "        \n",
    "        # sum up batch loss\n",
    "        test_loss += loss.item()\n",
    "\n",
    "        # class-wise classification using sigmoid\n",
    "        m = nn.Sigmoid()\n",
    "        output = m(output)\n",
    "        output = torch.where(output<0.5, output, torch.tensor(1.).to(device))\n",
    "        output = torch.where(output==1.0, output, torch.tensor(0.).to(device))\n",
    "\n",
    "        # add up number of correct predictions\n",
    "        correct += torch.sum(output == y)\n",
    "  \n",
    "        diff = (output == y)\n",
    "\n",
    "        # weighted accuracy of the predictions\n",
    "        weighted_correct += torch.sum(torch.mul(w, diff))\n",
    "        \n",
    "    # test loss per example\n",
    "    test_loss /= len(test_loader.dataset)\n",
    "    \n",
    "    # final test accuracy\n",
    "    test_acc = weighted_correct / len(test_loader.dataset)\n",
    "    print(f'Test loss: {test_loss:.5f} / weighted accuracy: {test_acc:.5f} /',\n",
    "          f'correct: {correct} out of {len(test_loader.dataset)} test points')"
   ]
  }
 ],
 "metadata": {
  "interpreter": {
   "hash": "71b0def66c9fdfac05edfafc9587f9dcfd34e64b1b79e62a2a9108c6900c0515"
  },
  "kernelspec": {
   "display_name": "default:Python",
   "language": "python",
   "name": "python3"
  },
  "language_info": {
   "codemirror_mode": {
    "name": "ipython",
    "version": 3
   },
   "file_extension": ".py",
   "mimetype": "text/x-python",
   "name": "python",
   "nbconvert_exporter": "python",
   "pygments_lexer": "ipython3",
   "version": "3.9.7"
  }
 },
 "nbformat": 4,
 "nbformat_minor": 5
}
